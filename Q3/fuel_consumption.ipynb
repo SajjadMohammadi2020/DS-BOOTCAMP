{
 "cells": [
  {
   "cell_type": "markdown",
   "metadata": {},
   "source": [
    "<h1 align=center style=\"line-height:200%;font-family:vazir;color:#0099cc\">\n",
    "<font face=\"vazir\" color=\"#0099cc\">\n",
    "مصرف سوخت\n",
    "</font>\n",
    "</h1>"
   ]
  },
  {
   "cell_type": "markdown",
   "metadata": {},
   "source": [
    "<p dir=rtl style=\"direction: rtl;text-align: justify;line-height:200%;font-family:vazir;font-size:medium\">\n",
    "<font face=\"vazir\" size=3>\n",
    "برای حل این تمرین، شما باید تابع \n",
    "<code>solve</code>\n",
    "را پیاده‌سازی کنید و در نهایت با اجرای سلول جواب‌ساز، کد خود را سیو کنید.\n",
    "<br>\n",
    "<span style=\"color:purple\"><b>توجه مهم:  </b></span>\n",
    "برای حل این تمرین، تنها از لایبرری‌هایی می‌توانید استفاده کنید که در تابع \n",
    "<code>import</code>\n",
    "شده‌اند. به هیچ وجه از لایبرری دیگری استفاده نکنید و ضمناً اسم لایبرری‌ها را نیز تغییر ندهید. در غیر این صورت، سیستم داوری نمی‌تواند کد شما را داوری کند.\n",
    "در این سوال نمی‌توانید از \n",
    "<code>f_oneway</code>\n",
    "استفاده کنید و پیاده‌سازی\n",
    "<code> ANOVA </code>\n",
    "بر‌عهده‌ی خود شماست.\n",
    "</font>\n",
    "</p>"
   ]
  },
  {
   "cell_type": "markdown",
   "metadata": {},
   "source": [
    "<h2 align=right style=\"line-height:200%;font-family:vazir;color:#0099cc\">\n",
    "<font face=\"vazir\" color=\"#0099cc\">\n",
    "ورودی\n",
    "</font>\n",
    "</h2>"
   ]
  },
  {
   "cell_type": "markdown",
   "metadata": {},
   "source": [
    "<p dir=rtl style=\"direction: rtl;text-align: justify;line-height:200%;font-family:vazir;font-size:medium\">\n",
    "<font face=\"vazir\" size=3>\n",
    "از هر کشور، چند ماشین انتخاب شده است و مصرف سوخت آن ماشین‌ها جمع‌آوری شده است. ورودی تابع شما آرایه‌ای از آرایه‌ها خواهد بود که هر آرایه‌ی درونی، حاوی اطلاعات یک کشور به‌خصوص است.\n",
    "</font>\n",
    "</p>"
   ]
  },
  {
   "cell_type": "markdown",
   "metadata": {},
   "source": [
    "<h2 align=right style=\"line-height:200%;font-family:vazir;color:#0099cc\">\n",
    "<font face=\"vazir\" color=\"#0099cc\">\n",
    "خروجی\n",
    "</font>\n",
    "</h2>"
   ]
  },
  {
   "cell_type": "markdown",
   "metadata": {},
   "source": [
    "<p dir=rtl style=\"direction: rtl;text-align: justify;line-height:200%;font-family:vazir;font-size:medium\">\n",
    "<font face=\"vazir\" size=3>\n",
    "خروجی شما ماکسیمم درصدی است که می‌توانید با آن ادعای شرکت فولکس واگن را رد کنید. دقت کنید که تفاوت پاسخ شما با جواب واقعی باید کمتر از \n",
    "<code>1e-2</code>\n",
    "باشد.\n",
    "</font>\n",
    "</p>"
   ]
  },
  {
   "cell_type": "code",
   "execution_count": 16,
   "metadata": {},
   "outputs": [],
   "source": [
    "def solve(arr):\n",
    "    import numpy as np\n",
    "    import scipy as sp\n",
    "    import math\n",
    "    SSB = 0 \n",
    "    k = len(arr)\n",
    "    all_extend = []\n",
    "    for i in range(len(arr)) : \n",
    "        all_extend.extend(arr[i])\n",
    "    all_mean = np.array(all_extend).mean()\n",
    "    for i in range(len(arr)) : \n",
    "        SSB += ((len(arr[i]))*(np.mean(arr[i])-all_mean)**2)\n",
    "    SSE = 0\n",
    "    for i in range(len(arr)) : \n",
    "        mean_gr = np.array(arr[i]).mean()\n",
    "        for j in range(len(arr[i])) : \n",
    "            SSE += ((arr[i][j]-mean_gr)**2)\n",
    "    SST = SSE + SSB\n",
    "    N = len(all_extend)\n",
    "    df1 = k - 1 \n",
    "    df2 = N - k\n",
    "    df3 = N - 1\n",
    "    MSB = SSB / (k-1)\n",
    "    MSE = SSE / (N-k)\n",
    "    f_value = MSB / MSE\n",
    "    pvalue = 100 * (sp.stats.f.cdf(f_value , df1 , df2))        \n",
    "    return pvalue"
   ]
  },
  {
   "cell_type": "code",
   "execution_count": 17,
   "metadata": {},
   "outputs": [
    {
     "name": "stdout",
     "output_type": "stream",
     "text": [
      "88.61520465416275\n"
     ]
    }
   ],
   "source": [
    "# solve([[85, 86, 88, 75, 78, 94, 98, 79, 71, 80],\n",
    "#        [91, 92, 93, 85, 87, 84, 82, 88, 95, 96],\n",
    "#        [79, 78, 88, 94, 92, 85, 83, 85, 82, 81]]) = 88.61\n",
    "print(solve([[85, 86, 88, 75, 78, 94, 98, 79, 71, 80],\n",
    "       [91, 92, 93, 85, 87, 84, 82, 88, 95, 96],\n",
    "       [79, 78, 88, 94, 92, 85, 83, 85, 82, 81]]))"
   ]
  },
  {
   "cell_type": "markdown",
   "metadata": {},
   "source": [
    "<h2 align=right style=\"line-height:200%;font-family:vazir;color:#0099cc\">\n",
    "<font face=\"vazir\" color=\"#0099cc\">\n",
    "<b>سلول جواب‌ساز</b>\n",
    "</font>\n",
    "</h2>\n",
    "\n",
    "\n",
    "<p dir=rtl style=\"direction: rtl; text-align: justify; line-height:200%; font-family:vazir; font-size:medium\">\n",
    "<font face=\"vazir\" size=3>\n",
    "    برای ساخته‌شدن فایل <code>result.zip</code> سلول زیر را اجرا کنید. توجه داشته باشید که پیش از اجرای سلول زیر تغییرات اعمال شده در نت‌بوک را ذخیره کرده باشید (<code>ctrl+s</code>) تا در صورت نیاز به پشتیبانی امکان بررسی کد شما وجود داشته باشد.\n",
    "</font>\n",
    "</p>\n",
    "\n"
   ]
  },
  {
   "cell_type": "code",
   "execution_count": 18,
   "metadata": {},
   "outputs": [
    {
     "name": "stdout",
     "output_type": "stream",
     "text": [
      "The following commands were written to file `solve.py`:\n",
      "def solve(arr):\n",
      "    import numpy as np\n",
      "    import scipy as sp\n",
      "    import math\n",
      "    SSB = 0 \n",
      "    k = len(arr)\n",
      "    all_extend = []\n",
      "    for i in range(len(arr)) : \n",
      "        all_extend.extend(arr[i])\n",
      "    all_mean = np.array(all_extend).mean()\n",
      "    for i in range(len(arr)) : \n",
      "        SSB += ((len(arr[i]))*(np.mean(arr[i])-all_mean)**2)\n",
      "    SSE = 0\n",
      "    for i in range(len(arr)) : \n",
      "        mean_gr = np.array(arr[i]).mean()\n",
      "        for j in range(len(arr[i])) : \n",
      "            SSE += ((arr[i][j]-mean_gr)**2)\n",
      "    SST = SSE + SSB\n",
      "    N = len(all_extend)\n",
      "    df1 = k - 1 \n",
      "    df2 = N - k\n",
      "    df3 = N - 1\n",
      "    MSB = SSB / (k-1)\n",
      "    MSE = SSE / (N-k)\n",
      "    f_value = MSB / MSE\n",
      "    pvalue = 100 * (sp.stats.f.cdf(f_value , df1 , df2))        \n",
      "    return pvalue\n",
      "\n",
      "File Paths:\n",
      "['solve.py', 'fuel_consumption.ipynb']\n"
     ]
    }
   ],
   "source": [
    "import zipfile \n",
    "from inspect import getsource\n",
    "\n",
    "%save solve getsource(solve)\n",
    "\n",
    "def compress(file_names):\n",
    "    print(\"File Paths:\")\n",
    "    print(file_names)\n",
    "    # Select the compression mode ZIP_DEFLATED for compression\n",
    "    # or zipfile.ZIP_STORED to just store the file\n",
    "    compression = zipfile.ZIP_DEFLATED\n",
    "    # create the zip file first parameter path/name, second mode\n",
    "    with zipfile.ZipFile(\"result.zip\", mode=\"w\") as zf:\n",
    "        for file_name in file_names:\n",
    "            # Add file to the zip file\n",
    "            # first parameter file to zip, second filename in zip\n",
    "            zf.write('./' + file_name, file_name, compress_type=compression)\n",
    "\n",
    "file_names = [\"solve.py\", \"fuel_consumption.ipynb\"]\n",
    "compress(file_names)"
   ]
  }
 ],
 "metadata": {
  "kernelspec": {
   "display_name": "Python 3 (ipykernel)",
   "language": "python",
   "name": "python3"
  },
  "language_info": {
   "codemirror_mode": {
    "name": "ipython",
    "version": 3
   },
   "file_extension": ".py",
   "mimetype": "text/x-python",
   "name": "python",
   "nbconvert_exporter": "python",
   "pygments_lexer": "ipython3",
   "version": "3.10.7"
  }
 },
 "nbformat": 4,
 "nbformat_minor": 2
}
