{
 "cells": [
  {
   "cell_type": "markdown",
   "metadata": {},
   "source": [
    "<h1 align=center style=\"line-height:200%;font-family:vazir;color:#0099cc\">\n",
    "<font face=\"vazir\" color=\"#0099cc\">\n",
    " شهر‌های پرجمعیت\n",
    "</font>\n",
    "</h1>\n",
    "\n",
    "<p dir=rtl style=\"direction: rtl;text-align: justify;line-height:200%;font-family:vazir;font-size:medium\">\n",
    "<font face=\"vazir\" size=3>\n",
    "در این تمرین با اطلاعات بیش از ۴۰هزار شهر در قالب یک دیتافریم مواجه می‌شوید و با هدف تمرین کتابخانه‌های <code>pandas</code> و <code>numpy</code> باید تغییراتی روی این دیتافریم ایجاد کنید.   \n",
    "</font>\n",
    "</p>"
   ]
  },
  {
   "cell_type": "code",
   "execution_count": 1,
   "metadata": {},
   "outputs": [],
   "source": [
    "import numpy as np\n",
    "import pandas as pd"
   ]
  },
  {
   "cell_type": "markdown",
   "metadata": {},
   "source": [
    "<h2 align=right style=\"line-height:200%;font-family:vazir;color:#0099cc\">\n",
    "<font face=\"vazir\" color=\"#0099cc\">\n",
    "مجموعه داده\n",
    "</font>\n",
    "</h2>\n",
    "\n",
    "<p dir=rtl style=\"direction: rtl;text-align: justify;line-height:200%;font-family:vazir;font-size:medium\">\n",
    "<font face=\"vazir\" size=3>\n",
    "داده‌ها را از فایل اکسل <code>worldcities.xlsx</code> که در پوشه تمرین قرار دارد بخوانید و در متغیر \n",
    "<code>df</code>\n",
    " ذخیره کنید.\n",
    "\n",
    "</font>\n",
    "</p>"
   ]
  },
  {
   "cell_type": "code",
   "execution_count": 8,
   "metadata": {},
   "outputs": [
    {
     "data": {
      "text/html": [
       "<div>\n",
       "<style scoped>\n",
       "    .dataframe tbody tr th:only-of-type {\n",
       "        vertical-align: middle;\n",
       "    }\n",
       "\n",
       "    .dataframe tbody tr th {\n",
       "        vertical-align: top;\n",
       "    }\n",
       "\n",
       "    .dataframe thead th {\n",
       "        text-align: right;\n",
       "    }\n",
       "</style>\n",
       "<table border=\"1\" class=\"dataframe\">\n",
       "  <thead>\n",
       "    <tr style=\"text-align: right;\">\n",
       "      <th></th>\n",
       "      <th>ville</th>\n",
       "      <th>ville_ascii</th>\n",
       "      <th>lat</th>\n",
       "      <th>lng</th>\n",
       "      <th>pays</th>\n",
       "      <th>iso2</th>\n",
       "      <th>iso3</th>\n",
       "      <th>admin_nom</th>\n",
       "      <th>capital</th>\n",
       "      <th>population</th>\n",
       "      <th>id</th>\n",
       "    </tr>\n",
       "  </thead>\n",
       "  <tbody>\n",
       "    <tr>\n",
       "      <th>0</th>\n",
       "      <td>A Coruña</td>\n",
       "      <td>A Coruna</td>\n",
       "      <td>43.3667</td>\n",
       "      <td>-8.3833</td>\n",
       "      <td>Spain</td>\n",
       "      <td>ES</td>\n",
       "      <td>ESP</td>\n",
       "      <td>Galicia</td>\n",
       "      <td>minor</td>\n",
       "      <td>245468.0</td>\n",
       "      <td>1.724417e+09</td>\n",
       "    </tr>\n",
       "    <tr>\n",
       "      <th>1</th>\n",
       "      <td>A Yun Pa</td>\n",
       "      <td>A Yun Pa</td>\n",
       "      <td>13.3939</td>\n",
       "      <td>108.4408</td>\n",
       "      <td>Vietnam</td>\n",
       "      <td>VN</td>\n",
       "      <td>VNM</td>\n",
       "      <td>Gia Lai</td>\n",
       "      <td>minor</td>\n",
       "      <td>53720.0</td>\n",
       "      <td>1.704946e+09</td>\n",
       "    </tr>\n",
       "    <tr>\n",
       "      <th>2</th>\n",
       "      <td>Aabenraa</td>\n",
       "      <td>Aabenraa</td>\n",
       "      <td>55.0444</td>\n",
       "      <td>9.4181</td>\n",
       "      <td>Denmark</td>\n",
       "      <td>DK</td>\n",
       "      <td>DNK</td>\n",
       "      <td>Syddanmark</td>\n",
       "      <td>minor</td>\n",
       "      <td>16401.0</td>\n",
       "      <td>1.208000e+09</td>\n",
       "    </tr>\n",
       "    <tr>\n",
       "      <th>3</th>\n",
       "      <td>Aachen</td>\n",
       "      <td>Aachen</td>\n",
       "      <td>50.7756</td>\n",
       "      <td>6.0836</td>\n",
       "      <td>Germany</td>\n",
       "      <td>DE</td>\n",
       "      <td>DEU</td>\n",
       "      <td>North Rhine-Westphalia</td>\n",
       "      <td>minor</td>\n",
       "      <td>249070.0</td>\n",
       "      <td>1.276806e+09</td>\n",
       "    </tr>\n",
       "    <tr>\n",
       "      <th>4</th>\n",
       "      <td>Aadorf</td>\n",
       "      <td>Aadorf</td>\n",
       "      <td>47.4939</td>\n",
       "      <td>8.8975</td>\n",
       "      <td>Switzerland</td>\n",
       "      <td>CH</td>\n",
       "      <td>CHE</td>\n",
       "      <td>Thurgau</td>\n",
       "      <td>NaN</td>\n",
       "      <td>9036.0</td>\n",
       "      <td>1.756023e+09</td>\n",
       "    </tr>\n",
       "  </tbody>\n",
       "</table>\n",
       "</div>"
      ],
      "text/plain": [
       "      ville ville_ascii      lat       lng         pays iso2 iso3  \\\n",
       "0  A Coruña    A Coruna  43.3667   -8.3833        Spain   ES  ESP   \n",
       "1  A Yun Pa    A Yun Pa  13.3939  108.4408      Vietnam   VN  VNM   \n",
       "2  Aabenraa    Aabenraa  55.0444    9.4181      Denmark   DK  DNK   \n",
       "3    Aachen      Aachen  50.7756    6.0836      Germany   DE  DEU   \n",
       "4    Aadorf      Aadorf  47.4939    8.8975  Switzerland   CH  CHE   \n",
       "\n",
       "                admin_nom capital  population            id  \n",
       "0                 Galicia   minor    245468.0  1.724417e+09  \n",
       "1                 Gia Lai   minor     53720.0  1.704946e+09  \n",
       "2              Syddanmark   minor     16401.0  1.208000e+09  \n",
       "3  North Rhine-Westphalia   minor    249070.0  1.276806e+09  \n",
       "4                 Thurgau     NaN      9036.0  1.756023e+09  "
      ]
     },
     "execution_count": 8,
     "metadata": {},
     "output_type": "execute_result"
    }
   ],
   "source": [
    "# load data\n",
    "df = pd.read_excel(\"worldcities.xlsx\")\n",
    "df.head()"
   ]
  },
  {
   "cell_type": "markdown",
   "metadata": {},
   "source": [
    "<h2 align=right style=\"line-height:200%;font-family:vazir;color:#0099cc\">\n",
    "<font face=\"vazir\" color=\"#0099cc\">\n",
    "حذف و نام‌گذاری ستون‌ها\n",
    "</font>\n",
    "</h2>\n",
    "\n",
    "<p dir=rtl style=\"direction: rtl;text-align: justify;line-height:200%;font-family:vazir;font-size:medium\">\n",
    "<font face=\"vazir\" size=3>\n",
    "ستون‌های\n",
    "<code>id</code>،\n",
    "<code>‌capital</code>،\n",
    "<code>ville_ascii</code> \n",
    "و \n",
    "<code>admin_nom</code>\n",
    " را از دیتافریم حذف نمایید.\n",
    "سپس نام ستون‌های \n",
    "<code>ville</code> \n",
    "و \n",
    "<code>pays</code>\n",
    " که به زبان فرانسوی نامگذاری شده‌اند را به ترتیب به \n",
    "<code>city</code> \n",
    "و \n",
    "<code>country</code>\n",
    "تغییر دهید.\n",
    "</font>\n",
    "</p>"
   ]
  },
  {
   "cell_type": "code",
   "execution_count": 9,
   "metadata": {},
   "outputs": [
    {
     "data": {
      "text/html": [
       "<div>\n",
       "<style scoped>\n",
       "    .dataframe tbody tr th:only-of-type {\n",
       "        vertical-align: middle;\n",
       "    }\n",
       "\n",
       "    .dataframe tbody tr th {\n",
       "        vertical-align: top;\n",
       "    }\n",
       "\n",
       "    .dataframe thead th {\n",
       "        text-align: right;\n",
       "    }\n",
       "</style>\n",
       "<table border=\"1\" class=\"dataframe\">\n",
       "  <thead>\n",
       "    <tr style=\"text-align: right;\">\n",
       "      <th></th>\n",
       "      <th>city</th>\n",
       "      <th>lat</th>\n",
       "      <th>lng</th>\n",
       "      <th>country</th>\n",
       "      <th>iso2</th>\n",
       "      <th>iso3</th>\n",
       "      <th>population</th>\n",
       "    </tr>\n",
       "  </thead>\n",
       "  <tbody>\n",
       "    <tr>\n",
       "      <th>0</th>\n",
       "      <td>A Coruña</td>\n",
       "      <td>43.3667</td>\n",
       "      <td>-8.3833</td>\n",
       "      <td>Spain</td>\n",
       "      <td>ES</td>\n",
       "      <td>ESP</td>\n",
       "      <td>245468.0</td>\n",
       "    </tr>\n",
       "    <tr>\n",
       "      <th>1</th>\n",
       "      <td>A Yun Pa</td>\n",
       "      <td>13.3939</td>\n",
       "      <td>108.4408</td>\n",
       "      <td>Vietnam</td>\n",
       "      <td>VN</td>\n",
       "      <td>VNM</td>\n",
       "      <td>53720.0</td>\n",
       "    </tr>\n",
       "    <tr>\n",
       "      <th>2</th>\n",
       "      <td>Aabenraa</td>\n",
       "      <td>55.0444</td>\n",
       "      <td>9.4181</td>\n",
       "      <td>Denmark</td>\n",
       "      <td>DK</td>\n",
       "      <td>DNK</td>\n",
       "      <td>16401.0</td>\n",
       "    </tr>\n",
       "    <tr>\n",
       "      <th>3</th>\n",
       "      <td>Aachen</td>\n",
       "      <td>50.7756</td>\n",
       "      <td>6.0836</td>\n",
       "      <td>Germany</td>\n",
       "      <td>DE</td>\n",
       "      <td>DEU</td>\n",
       "      <td>249070.0</td>\n",
       "    </tr>\n",
       "    <tr>\n",
       "      <th>4</th>\n",
       "      <td>Aadorf</td>\n",
       "      <td>47.4939</td>\n",
       "      <td>8.8975</td>\n",
       "      <td>Switzerland</td>\n",
       "      <td>CH</td>\n",
       "      <td>CHE</td>\n",
       "      <td>9036.0</td>\n",
       "    </tr>\n",
       "  </tbody>\n",
       "</table>\n",
       "</div>"
      ],
      "text/plain": [
       "       city      lat       lng      country iso2 iso3  population\n",
       "0  A Coruña  43.3667   -8.3833        Spain   ES  ESP    245468.0\n",
       "1  A Yun Pa  13.3939  108.4408      Vietnam   VN  VNM     53720.0\n",
       "2  Aabenraa  55.0444    9.4181      Denmark   DK  DNK     16401.0\n",
       "3    Aachen  50.7756    6.0836      Germany   DE  DEU    249070.0\n",
       "4    Aadorf  47.4939    8.8975  Switzerland   CH  CHE      9036.0"
      ]
     },
     "execution_count": 9,
     "metadata": {},
     "output_type": "execute_result"
    }
   ],
   "source": [
    "# drop and rename\n",
    "df = df.drop(['ville_ascii' , 'capital' , 'id' , 'admin_nom'] , axis = 1 )\n",
    "df = df.rename({\"ville\" : \"city\" , \"pays\" :\"country\" } , axis = 1)\n",
    "df.head()"
   ]
  },
  {
   "cell_type": "markdown",
   "metadata": {},
   "source": [
    "<h2 align=right style=\"line-height:200%;font-family:vazir;color:#0099cc\">\n",
    "<font face=\"vazir\" color=\"#0099cc\">\n",
    "فیلتر داده\n",
    "</font>\n",
    "</h2>\n",
    "\n",
    "<p dir=rtl style=\"direction: rtl;text-align: justify;line-height:200%;font-family:vazir;font-size:medium\">\n",
    "<font face=\"vazir\" size=3>\n",
    "شهر‌های با جمعیت کمتر از ۱ میلیون نفر  را از دیتافریم حذف کرده (شهر‌های با جمعیت دقیقا ۱ میلیون نفر در دیتافریم بمانند) و سپس نوع داده‌های ستون \n",
    "<code>population</code>\n",
    " را از \n",
    " <code>float</code>\n",
    "  به\n",
    "  <code>int32</code>\n",
    "   تبدیل نمایید.\n",
    "</font>\n",
    "</p>"
   ]
  },
  {
   "cell_type": "code",
   "execution_count": 10,
   "metadata": {},
   "outputs": [
    {
     "data": {
      "text/plain": [
       "(776, 7)"
      ]
     },
     "execution_count": 10,
     "metadata": {},
     "output_type": "execute_result"
    }
   ],
   "source": [
    "# filter data \n",
    "msk_pop = df['population'] >= 1000000\n",
    "df = df[msk_pop]\n",
    "df.shape"
   ]
  },
  {
   "cell_type": "code",
   "execution_count": 11,
   "metadata": {},
   "outputs": [
    {
     "name": "stderr",
     "output_type": "stream",
     "text": [
      "C:\\Users\\Rayan\\AppData\\Local\\Temp\\ipykernel_11584\\4066774202.py:2: SettingWithCopyWarning: \n",
      "A value is trying to be set on a copy of a slice from a DataFrame.\n",
      "Try using .loc[row_indexer,col_indexer] = value instead\n",
      "\n",
      "See the caveats in the documentation: https://pandas.pydata.org/pandas-docs/stable/user_guide/indexing.html#returning-a-view-versus-a-copy\n",
      "  df['population'] = df['population'].astype('int32')\n"
     ]
    },
    {
     "data": {
      "text/plain": [
       "city           object\n",
       "lat           float64\n",
       "lng           float64\n",
       "country        object\n",
       "iso2           object\n",
       "iso3           object\n",
       "population      int32\n",
       "dtype: object"
      ]
     },
     "execution_count": 11,
     "metadata": {},
     "output_type": "execute_result"
    }
   ],
   "source": [
    "# change type population\n",
    "df['population'] = df['population'].astype('int32')\n",
    "df.dtypes"
   ]
  },
  {
   "cell_type": "markdown",
   "metadata": {},
   "source": [
    "<p dir=rtl style=\"direction: rtl;text-align: right;line-height:200%;font-family:vazir;font-size:medium\">\n",
    "<font face=\"vazir\" size=3>\n",
    "در مراحل بعدی می‌خواهیم برخی مقادیر دیتافریم را تغییر دهیم و جهت داوری تغییرات صورت گرفته تاکنون نیاز است یک کپی از <code>df</code> داشته باشیم. بدین منظور از تابع  <code>copy</code> استفاده می‌کنیم.\n",
    "به طور کلی استفاده از مساوی برای دیتافریم‌ها در پانداز مانند نامپای عمل می‌کنند و تنها یک رفرنس جدید به همان دیتافریم اضافه می‌شود بنابراین تغییر دادن هر کدام از دیتافریم‌ها باعث تغییر دیگری نیز می‌شود.\n",
    "    استفاده از تابع <code>copy</code> این قابلیت را برای ما ایجاد می‌کند که یک کپی از دیتافریم اولیه دریافت کنیم و تغییر یکی تاثیری روی دیگری نداشته باشد.\n",
    "<br>\n",
    "</font>\n",
    "</p>"
   ]
  },
  {
   "cell_type": "code",
   "execution_count": 12,
   "metadata": {},
   "outputs": [],
   "source": [
    "first_df = df.copy()"
   ]
  },
  {
   "cell_type": "markdown",
   "metadata": {},
   "source": [
    "<h2 align=right style=\"line-height:200%;font-family:vazir;color:#0099cc\">\n",
    "<font face=\"vazir\" color=\"#0099cc\">\n",
    "حذف داده‌های تکراری و گم‌شده\n",
    "</font>\n",
    "</h2>\n",
    "\n",
    "<p dir=rtl style=\"direction: rtl;text-align: justify;line-height:200%;font-family:vazir;font-size:medium\">\n",
    "<font face=\"vazir\" size=3>\n",
    "نخست ردیف‌های تکراری دیتافریم و سپس ردیف‌هایی که بیش از یک مورد (۲ مورد و بیش‌تر) از اطلاعات آن‌ها گم‌شده است را از دیتافریم حذف نمایید.\n",
    "</font>\n",
    "</p>"
   ]
  },
  {
   "cell_type": "code",
   "execution_count": 14,
   "metadata": {},
   "outputs": [
    {
     "data": {
      "text/plain": [
       "(767, 7)"
      ]
     },
     "execution_count": 14,
     "metadata": {},
     "output_type": "execute_result"
    }
   ],
   "source": [
    "# remove duplicated and missed values\n",
    "df = df.drop_duplicates()\n",
    "df = df.dropna(thresh = 6 , axis = 0)\n",
    "df.shape"
   ]
  },
  {
   "cell_type": "markdown",
   "metadata": {},
   "source": [
    "<h2 align=right style=\"line-height:200%;font-family:vazir;color:#0099cc\">\n",
    "<font face=\"vazir\" color=\"#0099cc\">\n",
    "پر کردن داده‌ها گم‌شده\n",
    "</font>\n",
    "</h2>\n",
    "\n",
    "<p dir=rtl style=\"direction: rtl;text-align: justify;line-height:200%;font-family:vazir;font-size:medium\">\n",
    "<font face=\"vazir\" size=3>\n",
    "در ادامه این تمرین قصد داریم محاسباتی را بر روی ستون‌های \n",
    "<code>lat</code> و \n",
    "<code>lng</code>\n",
    " انجام دهیم، اما در چند ردیف از دیتافریم مقادیر یکی از این دو ستون ثبت نشده است؛ از این رو در این بخش قصد داریم مقادیر مفقوده در این دو ستون را با میانگین همان مولفه در همان کشور پر نماییم. به عنوان مثال چنانچه مقدار <code>lat</code> \n",
    " برای مشهد ثبت نشده باشد، میانگین <code>lat</code>  در دیگر شهر‌های ایران را محاسبه کرده و به عنوان <code>lat</code>  برای شهر مشهد در نظر می‌گیریم.\n",
    "</font>\n",
    "</p>"
   ]
  },
  {
   "cell_type": "code",
   "execution_count": 27,
   "metadata": {},
   "outputs": [],
   "source": [
    "# fill missing values of 'lat' and 'lng' columns"
   ]
  },
  {
   "cell_type": "markdown",
   "metadata": {},
   "source": [
    "<h2 align=right style=\"line-height:200%;font-family:vazir;color:#0099cc\">\n",
    "<font face=\"vazir\" color=\"#0099cc\">\n",
    "محاسبه فاصله از تهران\n",
    "</font>\n",
    "</h2>\n",
    "\n",
    "<p dir=rtl style=\"direction: rtl;text-align: justify;line-height:200%;font-family:vazir;font-size:medium\">\n",
    "<font face=\"vazir\" size=3>\n",
    "در این بخش قصد داریم فاصله هر یک از شهر‌ها را با تهران حساب کنیم. بدین منظور از فرمول هاورسین استفاده خواهیم کرد. این فرمول بر اساس طول جغرافیایی (Logitude) و عرض جغرافیایی (Latitude)  دو نقطه در سطح یک کره، فاصله آنها را حساب می‌کند.\n",
    "فرمول محاسبه فاصله هاورسین در ادامه آورده شده است. برای اطلاعات بیشتر در رابطه با آن می‌توانید به این\n",
    "<a href=\"https://www.movable-type.co.uk/scripts/latlong.html\"> لینک</a>\n",
    " مراجعه کنید. \n",
    "در این بخش از شما خواسته شده است، نخست با توجه به فرمول هاورسین و مقادیر طول و عرض جغرافیایی تهران که از دیتافریم استخراج می‌کنید تابع  <code>haversin_from_teh</code>  را تکمیل کرده تا فاصله هر شهر از تهران را محاسبه کند و سپس با استفاده از این تابع، \n",
    "فاصله هر شهر از تهران را در ستون\n",
    "<code>distance_from_tehran</code>\n",
    "در دیتافریم درج نمایید.\n",
    "</font>\n",
    "</p>"
   ]
  },
  {
   "cell_type": "markdown",
   "metadata": {},
   "source": [
    "<p dir=rtl style=\"direction: rtl;text-align: justify;line-height:200%;font-family:vazir;font-size:medium\">\n",
    "<font face=\"vazir\" size=3>\n",
    "فرمول هاورسین:\n",
    "</font>\n",
    "</p>\n",
    "\n",
    "\n",
    "\n",
    "$\\lambda_1$, $\\lambda_2$ : longitudes of the two points in radians (lng)\n",
    "\n",
    "$\\varphi_1$, $\\varphi_2$ : the latitudes of the two points in radians (lat)\n",
    "\n",
    "$d$ : distance between two cities\n",
    "\n",
    "\n",
    "$$\n",
    "r = 6371\n",
    "$$\n",
    "$$\n",
    "a = \\sin^2\\left(\\frac{\\varphi_2-\\varphi_1}{2}\\right) + \\cos(\\varphi_1)\\cos(\\varphi_2)\\sin^2\\left(\\frac{\\lambda_2-\\lambda_1}{2}\\right)\n",
    "$$\n",
    "$$\n",
    "d = 2r \\operatorname{atan2}\\left(\\sqrt{a}, \\sqrt{1 -a}\\right)\n",
    "$$\n",
    "\n",
    "<p dir=rtl style=\"direction: rtl;text-align: justify;line-height:200%;font-family:vazir;font-size:medium\">\n",
    "<font face=\"vazir\" size=3>\n",
    "<code>تذکر:</code>\n",
    "دقت کنید که مقادیر طول و عرض جغرافیایی ثبت شده در دیتافریم به درجه می‌باشد و برای استفاده از رابطه فوق باید به رادیان تبدیل گردد. همچنین توجه کنید ملاک ارزیابی پاسخ شما فرمول فوق و طول و عرض جغرافیایی تهران که در همین دیتافریم درج شده، می‌باشد.\n",
    "</font>\n",
    "</p>\n"
   ]
  },
  {
   "cell_type": "code",
   "execution_count": 27,
   "metadata": {},
   "outputs": [],
   "source": [
    "def haversine_from_teh(lat, lng):\n",
    "    import math\n",
    "    teh_lat = df[df['city'] == 'Tehran']['lat']\n",
    "    teh_lng = df[df['city'] == 'Tehran']['lng']\n",
    "    teh_lat = teh_lat * 180 / math.pi\n",
    "    teh_lng = teh_lng * 180 / math.pi\n",
    "    lat_2 = lat * 180 / math.pi\n",
    "    lng_2 = lng * 180 / math.pi\n",
    "    a = (math.sin((lat_2-teh_lat)/2))**2 + math.cos(teh_lat)*math.cos(lat_2)*(math.sin((lng_2 - teh_lng)/2))**2\n",
    "    r = 6371\n",
    "    d = 2 * r * math.atan2(math.sqrt(a) , math.sqrt(1-a))\n",
    "    return d"
   ]
  },
  {
   "cell_type": "code",
   "execution_count": 28,
   "metadata": {},
   "outputs": [
    {
     "data": {
      "text/html": [
       "<div>\n",
       "<style scoped>\n",
       "    .dataframe tbody tr th:only-of-type {\n",
       "        vertical-align: middle;\n",
       "    }\n",
       "\n",
       "    .dataframe tbody tr th {\n",
       "        vertical-align: top;\n",
       "    }\n",
       "\n",
       "    .dataframe thead th {\n",
       "        text-align: right;\n",
       "    }\n",
       "</style>\n",
       "<table border=\"1\" class=\"dataframe\">\n",
       "  <thead>\n",
       "    <tr style=\"text-align: right;\">\n",
       "      <th></th>\n",
       "      <th>city</th>\n",
       "      <th>lat</th>\n",
       "      <th>lng</th>\n",
       "      <th>country</th>\n",
       "      <th>iso2</th>\n",
       "      <th>iso3</th>\n",
       "      <th>population</th>\n",
       "      <th>distance_from_tehran</th>\n",
       "    </tr>\n",
       "  </thead>\n",
       "  <tbody>\n",
       "    <tr>\n",
       "      <th>19</th>\n",
       "      <td>Aba</td>\n",
       "      <td>5.1167</td>\n",
       "      <td>7.3667</td>\n",
       "      <td>Nigeria</td>\n",
       "      <td>NG</td>\n",
       "      <td>NGA</td>\n",
       "      <td>1530000</td>\n",
       "      <td>15376.314484</td>\n",
       "    </tr>\n",
       "    <tr>\n",
       "      <th>83</th>\n",
       "      <td>Abidjan</td>\n",
       "      <td>5.3167</td>\n",
       "      <td>-4.0333</td>\n",
       "      <td>Côte d'Ivoire</td>\n",
       "      <td>CI</td>\n",
       "      <td>CIV</td>\n",
       "      <td>4980000</td>\n",
       "      <td>14825.679927</td>\n",
       "    </tr>\n",
       "    <tr>\n",
       "      <th>121</th>\n",
       "      <td>Abu Dhabi</td>\n",
       "      <td>24.4667</td>\n",
       "      <td>54.3667</td>\n",
       "      <td>United Arab Emirates</td>\n",
       "      <td>AE</td>\n",
       "      <td>ARE</td>\n",
       "      <td>1483000</td>\n",
       "      <td>11309.216315</td>\n",
       "    </tr>\n",
       "    <tr>\n",
       "      <th>131</th>\n",
       "      <td>Abuja</td>\n",
       "      <td>9.0667</td>\n",
       "      <td>7.4833</td>\n",
       "      <td>Nigeria</td>\n",
       "      <td>NG</td>\n",
       "      <td>NGA</td>\n",
       "      <td>3770000</td>\n",
       "      <td>13950.809695</td>\n",
       "    </tr>\n",
       "    <tr>\n",
       "      <th>169</th>\n",
       "      <td>Accra</td>\n",
       "      <td>5.5500</td>\n",
       "      <td>-0.2000</td>\n",
       "      <td>Ghana</td>\n",
       "      <td>GH</td>\n",
       "      <td>GHA</td>\n",
       "      <td>2388000</td>\n",
       "      <td>16819.558121</td>\n",
       "    </tr>\n",
       "  </tbody>\n",
       "</table>\n",
       "</div>"
      ],
      "text/plain": [
       "          city      lat      lng               country iso2 iso3  population  \\\n",
       "19         Aba   5.1167   7.3667               Nigeria   NG  NGA     1530000   \n",
       "83     Abidjan   5.3167  -4.0333         Côte d'Ivoire   CI  CIV     4980000   \n",
       "121  Abu Dhabi  24.4667  54.3667  United Arab Emirates   AE  ARE     1483000   \n",
       "131      Abuja   9.0667   7.4833               Nigeria   NG  NGA     3770000   \n",
       "169      Accra   5.5500  -0.2000                 Ghana   GH  GHA     2388000   \n",
       "\n",
       "     distance_from_tehran  \n",
       "19           15376.314484  \n",
       "83           14825.679927  \n",
       "121          11309.216315  \n",
       "131          13950.809695  \n",
       "169          16819.558121  "
      ]
     },
     "execution_count": 28,
     "metadata": {},
     "output_type": "execute_result"
    }
   ],
   "source": [
    "# create distance_from_tehran column\n",
    "df['distance_from_tehran'] = df[['lat' , 'lng']].apply(lambda x : haversine_from_teh(*x) , axis = 1 )\n",
    "df.head()"
   ]
  },
  {
   "cell_type": "markdown",
   "metadata": {},
   "source": [
    "<h2 align=right style=\"line-height:200%;font-family:vazir;color:#0099cc\">\n",
    "<font face=\"vazir\" color=\"#0099cc\">\n",
    "مرتب‌سازی و دخیره دیتافریم\n",
    "</font>\n",
    "</h2>\n",
    "\n",
    "<p dir=rtl style=\"direction: rtl;text-align: justify;line-height:200%;font-family:vazir;font-size:medium\">\n",
    "<font face=\"vazir\" size=3>\n",
    "حال شهر‌ها را بر اساس حروف الفبا (به صورت صعودی) و سپس بر اساس مقدار ستون \n",
    "<code>lat</code>\n",
    "(به صورت نزولی)\n",
    " مرتب کرده و دیتافریم <code>df</code> را بدون نمایه‌هایش (index) درون فایلی به نام <code>distances.csv</code> ذخیره کنید. \n",
    "</font>\n",
    "</p>"
   ]
  },
  {
   "cell_type": "code",
   "execution_count": 29,
   "metadata": {},
   "outputs": [],
   "source": [
    "# sort and save dataframe df \n",
    "df = df.sort_values(by=['city' , 'lat'] , ascending=[True , False])\n",
    "df.to_csv(\"distances.csv\" , index=False)"
   ]
  },
  {
   "cell_type": "markdown",
   "metadata": {},
   "source": [
    "\n",
    "<p dir=rtl style=\"direction: rtl;text-align: justify;line-height:200%;font-family:vazir;font-size:medium\">\n",
    "<font face=\"vazir\" size=3>\n",
    "عمل فوق را بر روی دیتافریم \n",
    "<code>first_df</code>\n",
    "نیز اجرا کنید و با نام \n",
    "<code>cities.csv</code>\n",
    "ذخیره کنید (مرتب‌سازی بر اساس نام شهر (به صورت صعودی) و سپس بر اساس مقدار ستون \n",
    "<code>lat</code>\n",
    "(به صورت نزولی) و ذخیره دیتافریم بدون نمایه).\n",
    "</font>\n",
    "</p>\n",
    "\n"
   ]
  },
  {
   "cell_type": "code",
   "execution_count": 31,
   "metadata": {},
   "outputs": [],
   "source": [
    "# sort and save dataframe first_df\n",
    "first_df = first_df.sort_values(by=['city' , 'lat'] , ascending=[True , False])\n",
    "first_df.to_csv(\"cities.csv\")"
   ]
  },
  {
   "cell_type": "markdown",
   "metadata": {},
   "source": [
    "<h2 align=right style=\"line-height:200%;font-family:vazir;color:#0099cc\">\n",
    "<font face=\"vazir\" color=\"#0099cc\">\n",
    "<b>سلول جواب‌ساز</b>\n",
    "</font>\n",
    "</h2>\n",
    "\n",
    "\n",
    "<p dir=rtl style=\"direction: rtl; text-align: justify; line-height:200%; font-family:vazir; font-size:medium\">\n",
    "<font face=\"vazir\" size=3>\n",
    "    برای ساخته‌شدن فایل <code>result.zip</code> سلول زیر را اجرا کنید. توجه داشته باشید که پیش از اجرای سلول زیر تغییرات اعمال شده در نت‌بوک را ذخیره کرده باشید (<code>ctrl+s</code>) تا در صورت نیاز به پشتیبانی امکان بررسی کد شما وجود داشته باشد.\n",
    "</font>\n",
    "</p>"
   ]
  },
  {
   "cell_type": "code",
   "execution_count": null,
   "metadata": {},
   "outputs": [],
   "source": [
    "import zlib\n",
    "import zipfile\n",
    "\n",
    "def compress(file_names):\n",
    "    print(\"File Paths:\")\n",
    "    print(file_names)\n",
    "    compression = zipfile.ZIP_DEFLATED\n",
    "    with zipfile.ZipFile(\"result.zip\", mode=\"w\") as zf:\n",
    "        for file_name in file_names:\n",
    "            zf.write('./' + file_name, file_name, compress_type=compression)\n",
    "\n",
    "file_names = ['populous_cities.ipynb' , 'cities.csv', 'distances.csv']\n",
    "\n",
    "compress(file_names)"
   ]
  }
 ],
 "metadata": {
  "kernelspec": {
   "display_name": "Python 3 (ipykernel)",
   "language": "python",
   "name": "python3"
  },
  "language_info": {
   "codemirror_mode": {
    "name": "ipython",
    "version": 3
   },
   "file_extension": ".py",
   "mimetype": "text/x-python",
   "name": "python",
   "nbconvert_exporter": "python",
   "pygments_lexer": "ipython3",
   "version": "3.10.7"
  },
  "vscode": {
   "interpreter": {
    "hash": "8d0909762a60a05afe89cc6a3f713e7fde53c0a756a008763870981f8cbb9d97"
   }
  }
 },
 "nbformat": 4,
 "nbformat_minor": 2
}
