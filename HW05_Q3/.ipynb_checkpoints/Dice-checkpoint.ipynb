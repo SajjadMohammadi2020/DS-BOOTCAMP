{
 "cells": [
  {
   "cell_type": "markdown",
   "metadata": {},
   "source": [
    "<h1 align=center style=\"line-height:200%;font-family:vazir;color:#0099cc\">\n",
    "<font face=\"vazir\" color=\"#0099cc\">\n",
    "تاس خراب</font>\n",
    "</h1>"
   ]
  },
  {
   "cell_type": "markdown",
   "metadata": {},
   "source": [
    "<p dir=rtl style=\"direction: rtl;text-align: justify;line-height:200%;font-family:vazir;font-size:medium\">\n",
    "<font face=\"vazir\" size=3>\n",
    "برای حل این تمرین، شما باید تابع \n",
    "<code>solve</code>\n",
    "را پیاده‌سازی کرده و در نهایت با اجرای سلول جواب‌ساز، کد خود را ذخیره کنید.\n",
    "<br>\n",
    "<span style=\"color:purple\"><b>توجه مهم:  </b></span>\n",
    "برای حل این تمرین، تنها از لایبرری‌هایی می‌توانید استفاده کنید که در تابع \n",
    "<code>import</code>\n",
    "شده‌اند. به هیچ وجه از لایبرری دیگری استفاده نکنید و ضمناً اسم لایبرری‌ها را نیز تغییر ندهید. در غیر این‌صورت، سیستم داوری نمی‌تواند کد شما را داوری کند.\n",
    "</font>\n",
    "</p>"
   ]
  },
  {
   "cell_type": "markdown",
   "metadata": {},
   "source": [
    "<h2 align=right style=\"line-height:200%;font-family:vazir;color:#0099cc\">\n",
    "<font face=\"vazir\" color=\"red\">\n",
    "سوال\n",
    "</font>\n",
    "</h2>"
   ]
  },
  {
   "cell_type": "markdown",
   "metadata": {},
   "source": [
    "<p dir=rtl style=\"direction: rtl;text-align: justify;line-height:200%;font-family:vazir;font-size:medium\">\n",
    "<font face=\"vazir\" size=4.8>\n",
    "دو تاس داریم که احتمال آمدن هر یک از وجه های آن‌ها یکسان نیست تابع\n",
    "<code>solve</code>\n",
    "را به گونه‌ای پیاده‌سازی کنید که محاسبه کند؛ احتمال این‌که ضرب دو عدد رو شده از عدد ورودی بیشتر باشد چقدر است؟\n",
    "</font>\n",
    "</p>"
   ]
  },
  {
   "cell_type": "markdown",
   "metadata": {},
   "source": [
    "<h2 align=right style=\"line-height:200%;font-family:vazir;color:#0099cc\">\n",
    "<font face=\"vazir\" color=\"#0099cc\">\n",
    "ورودی\n",
    "</font>\n",
    "</h2>"
   ]
  },
  {
   "cell_type": "markdown",
   "metadata": {},
   "source": [
    "<p dir=rtl style=\"direction: rtl;text-align: justify;line-height:200%;font-family:vazir;font-size:medium\">\n",
    "<font face=\"vazir\" size=3>\n",
    "ورودی تابع یک عدد خواهد بود و نشان می‌دهد که ضرب دو تاس از چه عددی بیشتر باشد.\n",
    "</font>\n",
    "</p>\n",
    "\n",
    "<p dir=rtl style=\"direction: rtl;text-align: justify;line-height:200%;font-family:vazir;font-size:medium\">\n",
    "<font face=\"vazir\" size=3>\n",
    "<span style=\"color:red\" fontsize=15><b>نکته‌ی مهم:  </b></span>\n",
    "احتمال آمدن هر وجه تاس یکسان نیست و به شکل زیر است:\n",
    "</font>\n",
    "</p>\n",
    "<div style=\"direction: rtl; text-align: justify; line-height: 200%; font-family: Vazir; font-size: medium;\">\n",
    "\n",
    "<ul>\n",
    "<li>\n",
    "احتمال آمدن وجه 1 برابر 1/24\n",
    "</li>\n",
    "<li>\n",
    "احتمال آمدن وجه 2 برابر 1/12\n",
    "</li>\n",
    "<li>\n",
    "احتمال آمدن وجه 3 برابر 1/6\n",
    "</li>\n",
    "<li>\n",
    "احتمال آمدن وجه 4 برابر 1/2\n",
    "</li>\n",
    "<li>\n",
    "احتمال آمدن وجه 5 برابر 1/8\n",
    "</li>\n",
    "<li>\n",
    "احتمال آمدن وجه 6 برابر 1/12\n",
    "</li>\n",
    "</ul>\n",
    "</div>\n"
   ]
  },
  {
   "cell_type": "markdown",
   "metadata": {},
   "source": [
    "<h2 align=right style=\"line-height:200%;font-family:vazir;color:#0099cc\">\n",
    "<font face=\"vazir\" color=\"#0099cc\">\n",
    "خروجی\n",
    "</font>\n",
    "</h2>"
   ]
  },
  {
   "cell_type": "markdown",
   "metadata": {},
   "source": [
    "<p dir=rtl style=\"direction: rtl;text-align: justify;line-height:200%;font-family:vazir;font-size:medium\">\n",
    "<font face=\"vazir\" size=3>\n",
    "خروجی تابع این است که ضرب دو عدد رو شده در تاس‌ها با چه احتمالی از آن عدد ورودی بیشتر است.\n",
    " دقت کنید که تفاوت پاسخ شما با جواب واقعی باید کمتر از \n",
    "<code>1e-2</code>\n",
    "باشد.\n",
    "</font>\n",
    "</p>"
   ]
  },
  {
   "cell_type": "code",
   "execution_count": 12,
   "metadata": {},
   "outputs": [],
   "source": [
    "def get_dice(x) : \n",
    "    if x in [1] : \n",
    "        return 1\n",
    "    elif x in [2,3] : \n",
    "        return 2\n",
    "    elif x in [4,5,6,7] :\n",
    "        return 3\n",
    "    elif x in [8,9,10] : \n",
    "        return 5\n",
    "    elif x in [11,12] : \n",
    "        return 6\n",
    "    else : \n",
    "        return 4\n",
    "\n",
    "def solve(numb):\n",
    "    import random\n",
    "    import numpy as np\n",
    "    L = [1/24 , 1/12 , 1/6 , 1/2 , 1/8 , 1/12]\n",
    "    n_iter = 10000\n",
    "    res = []\n",
    "    for i in range(n_iter) :\n",
    "        n_1 = 0\n",
    "        n_2 = 0\n",
    "        a1 = np.random.randint(24)\n",
    "        a2 = np.random.randint(24)\n",
    "        n_1 = get_dice(a1)\n",
    "        n_2 = get_dice(a2)\n",
    "        mult = n_1 * n_2 \n",
    "        res.append(mult>numb)\n",
    "    return sum(res)/len(res)\n"
   ]
  },
  {
   "cell_type": "code",
   "execution_count": 17,
   "metadata": {},
   "outputs": [
    {
     "name": "stdout",
     "output_type": "stream",
     "text": [
      "1.0\n",
      "0.5711\n"
     ]
    }
   ],
   "source": [
    "# Here are some examples of how your outputs should look like\n",
    "# solve(0) = 1.0\n",
    "# solve(14) = 0.57\n",
    "print(solve(0))\n",
    "print(solve(14))"
   ]
  },
  {
   "cell_type": "markdown",
   "metadata": {},
   "source": [
    "<h2 align=right style=\"line-height:200%;font-family:vazir;color:#0099cc\">\n",
    "<font face=\"vazir\" color=\"#0099cc\">\n",
    "<b>سلول جواب‌ساز</b>\n",
    "</font>\n",
    "</h2>\n",
    "\n",
    "\n",
    "<p dir=rtl style=\"direction: rtl; text-align: justify; line-height:200%; font-family:vazir; font-size:medium\">\n",
    "<font face=\"vazir\" size=3>\n",
    "    برای ساخته‌شدن فایل <code>result.zip</code> سلول زیر را اجرا کنید. توجه داشته باشید که پیش از اجرای سلول زیر تغییرات اعمال شده در نت‌بوک را ذخیره کرده باشید (<code>ctrl+s</code>).\n",
    "</font>\n",
    "</p>\n",
    "\n"
   ]
  },
  {
   "cell_type": "code",
   "execution_count": 18,
   "metadata": {},
   "outputs": [
    {
     "name": "stdout",
     "output_type": "stream",
     "text": [
      "The following commands were written to file `solve.py`:\n",
      "def solve(numb):\n",
      "    import random\n",
      "    import numpy as np\n",
      "    L = [1/24 , 1/12 , 1/6 , 1/2 , 1/8 , 1/12]\n",
      "    n_iter = 10000\n",
      "    res = []\n",
      "    for i in range(n_iter) :\n",
      "        n_1 = 0\n",
      "        n_2 = 0\n",
      "        a1 = np.random.randint(24)\n",
      "        a2 = np.random.randint(24)\n",
      "        n_1 = get_dice(a1)\n",
      "        n_2 = get_dice(a2)\n",
      "        mult = n_1 * n_2 \n",
      "        res.append(mult>numb)\n",
      "    return sum(res)/len(res)\n",
      "\n",
      "File Paths:\n",
      "['solve.py', 'Dice.ipynb']\n"
     ]
    }
   ],
   "source": [
    "import zipfile \n",
    "from inspect import getsource\n",
    "\n",
    "%save solve getsource(solve)\n",
    "\n",
    "def compress(file_names):\n",
    "    print(\"File Paths:\")\n",
    "    print(file_names)\n",
    "    compression = zipfile.ZIP_DEFLATED\n",
    "    with zipfile.ZipFile(\"result.zip\", mode=\"w\") as zf:\n",
    "        for file_name in file_names:\n",
    "            zf.write('./' + file_name, file_name, compress_type=compression)\n",
    "\n",
    "file_names = [\"solve.py\", \"Dice.ipynb\"]\n",
    "compress(file_names)"
   ]
  }
 ],
 "metadata": {
  "kernelspec": {
   "display_name": "Python 3 (ipykernel)",
   "language": "python",
   "name": "python3"
  },
  "language_info": {
   "codemirror_mode": {
    "name": "ipython",
    "version": 3
   },
   "file_extension": ".py",
   "mimetype": "text/x-python",
   "name": "python",
   "nbconvert_exporter": "python",
   "pygments_lexer": "ipython3",
   "version": "3.10.7"
  }
 },
 "nbformat": 4,
 "nbformat_minor": 2
}
