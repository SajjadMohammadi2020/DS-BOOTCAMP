{
 "cells": [
  {
   "cell_type": "markdown",
   "id": "9caea1db",
   "metadata": {},
   "source": [
    "<h1 align=center style=\"line-height:200%;font-family:vazir;color:#0099cc\">\n",
    "<font face=\"vazir\" color=\"#0099cc\">\n",
    "عملیات ماتریسی\n",
    "</font>\n",
    "</h1>\n",
    "\n",
    "<p dir=rtl style=\"direction: rtl;text-align: justify;line-height:200%;font-family:vazir;font-size:medium\">\n",
    "<font face=\"vazir\" size=3>\n",
    "در این تمرین می‌خواهیم به برخی از عملیات‌های ماتریسی بپردازیم.\n",
    "</font>\n",
    "</p>"
   ]
  },
  {
   "attachments": {},
   "cell_type": "markdown",
   "id": "1a7c5884",
   "metadata": {},
   "source": [
    "<h2 align=right style=\"line-height:200%;font-family:vazir;color:#0099cc\">\n",
    "<font face=\"vazir\" color=\"#0099cc\">\n",
    "بخش اول\n",
    "</font>\n",
    "</h2>\n",
    "\n",
    "<p dir=rtl style=\"direction: rtl;text-align: justify;line-height:200%;font-family:vazir;font-size:medium\">\n",
    "<font face=\"vazir\" size=3>\n",
    "در این بخش می‌خواهیم اطلاعات مجموعه‌داده‌ای که مربوط به مساحت جنگل‌های آتش‌گرفته در پرتغال است را بخوانید و در ادامه ستون <code>area</code> را به‌عنوان بردار <code>target</code> خارج کرده و بقیه‌ی ویژگی‌ها غیر از <code>month</code> و  <code>day</code> در قالب   ماتریسی مربعی قرار دهید (با انتخاب تعداد سطرهایی به تعداد ستون‌های ویژگی).\n",
    "سطرهایی که <code>area</code> آن‌ها <code>0</code> شده است را نیز خارج کنید.\n",
    "برای کسب اطلاعات بیشتر درباره‌ی این مجموعه‌داده نیز می‌توانید به  <a href=\"https://archive.ics.uci.edu/dataset/162/forest+fires\">این لینک</a> مراجعه کنید.\n",
    "</font>\n",
    "</p>"
   ]
  },
  {
   "cell_type": "code",
   "execution_count": 11,
   "id": "f212c8ab",
   "metadata": {},
   "outputs": [],
   "source": [
    "import numpy as np\n",
    "import pandas as pd\n",
    "\n",
    "# Load the Forest Fires dataset from a CSV file\n",
    "forest_data = pd.read_csv('https://archive.ics.uci.edu/ml/machine-learning-databases/forest-fires/forestfires.csv')"
   ]
  },
  {
   "cell_type": "code",
   "execution_count": 13,
   "id": "f67f8d3d",
   "metadata": {},
   "outputs": [],
   "source": [
    "# Remove month and day columns\n",
    "forest_data = # TO-DO\n",
    "\n",
    "# Remove (area = 0) Rows\n",
    "forest_data = # TO-DO"
   ]
  },
  {
   "cell_type": "code",
   "execution_count": 5,
   "id": "1242e24b",
   "metadata": {},
   "outputs": [],
   "source": [
    "# Extract the features (matrix of features)\n",
    "features =# TO-DO\n",
    "\n",
    "# Extract the target (last column)\n",
    "target = # TO-DO"
   ]
  },
  {
   "attachments": {},
   "cell_type": "markdown",
   "id": "34efba4b",
   "metadata": {},
   "source": [
    "\n",
    "<p dir=rtl style=\"direction: rtl;text-align: justify;line-height:200%;font-family:vazir;font-size:medium\">\n",
    "<font face=\"vazir\" size=3>\n",
    "در ادامه بر اساس متد تغییر مقیاس Min-max داده‌ها را نرمال کنید .\n",
    "توضیحات مربوط به انواع روش‌های نرمال‌سازی داده‌ها را می‌توانید در <a href=\"https://en.wikipedia.org/wiki/Normalization_(statistics)\">این لینک</a> مطالعه کنید.\n",
    "\n",
    "</font>\n",
    "</p>\n"
   ]
  },
  {
   "cell_type": "code",
   "execution_count": 1,
   "id": "db4c4036",
   "metadata": {},
   "outputs": [],
   "source": [
    "# Min-Max normalization"
   ]
  },
  {
   "attachments": {},
   "cell_type": "markdown",
   "id": "8f726397",
   "metadata": {},
   "source": [
    "\n",
    "<p dir=rtl style=\"direction: rtl;text-align: justify;line-height:200%;font-family:vazir;font-size:medium\">\n",
    "<font face=\"vazir\" size=3>\n",
    "اکنون معادله‌ی ماتریسی زیر را حل کنید:\n",
    "    <p>\n",
    "    <code>coefficients * features = target</code>\n",
    "     </p>\n",
    "     <p dir=rtl style=\"direction: rtl;text-align: justify;line-height:200%;font-family:vazir;font-size:medium\">\n",
    "    در اینجا <code>coefficients</code> ماتریس ضرایب است و شما باید آن را گزارش دهید. البته برای تفسیر بهتر پاسخ، از شما می‌خواهیم در خروجی اهمیت <code>feature</code> های آن دیتاست را برای تعداد سطری که در معادله ماتریسی قرار دادیم، به‌صورت نزولی چاپ کنید. یعنی بر اساس ماتریس ضرایب به‌دست‌آمده تعیین کنید کدام ویژگی‌ها در تعیین میزان مساحت آتش‌گرفته جنگل‌های مورد نظر  به‌ترتیب از بقیه مهم‌تر بوده اند.\n",
    "    </p>\n",
    "    <p dir=rtl style=\"direction: rtl;text-align: justify;line-height:200%;font-family:vazir;font-size:medium\">\n",
    "    برای حل این معادله می‌توانید از ماژول جبر خطی نامپای استفاده کنید.\n",
    "     </p>\n",
    "</font>\n",
    "</p>\n"
   ]
  },
  {
   "cell_type": "code",
   "execution_count": 3,
   "id": "c5939e09",
   "metadata": {},
   "outputs": [],
   "source": [
    "# Solve the linear equation\n",
    "coefficients = # TO-DO\n",
    "\n",
    "# Print the coefficients\n",
    "#print('Coefficients:', coefficients)"
   ]
  },
  {
   "cell_type": "code",
   "execution_count": 4,
   "id": "cd514c4c",
   "metadata": {},
   "outputs": [],
   "source": [
    "# TO-DO\n",
    "# Print the interpretation\n",
    "print('Interpretation of Coefficients:')"
   ]
  },
  {
   "attachments": {},
   "cell_type": "markdown",
   "id": "45783ad7",
   "metadata": {},
   "source": [
    "<h2 align=right style=\"line-height:200%;font-family:vazir;color:#0099cc\">\n",
    "<font face=\"vazir\" color=\"#0099cc\">\n",
    "بخش دوم\n",
    "</font>\n",
    "</h2>\n",
    "\n",
    "<p dir=rtl style=\"direction: rtl;text-align: justify;line-height:200%;font-family:vazir;font-size:medium\">\n",
    "<font face=\"vazir\" size=3>\n",
    "در این بخش می‌خواهیم تصویری که در فایل‌های ضمیمه وجود دارد (<code>sample_img.jpg</code>) را بخوانید تا در ادامه خواسته‌های ذیل را برآورده کنید. دقت کنید که در این بخش <b>نباید</b> از کتابخانه‌های پردازش تصویر استفاده کنید.</font>\n",
    "</p>"
   ]
  },
  {
   "cell_type": "code",
   "execution_count": null,
   "id": "2cb49683",
   "metadata": {},
   "outputs": [],
   "source": [
    "import numpy as np\n",
    "import matplotlib.pyplot as plt\n",
    "from PIL import Image"
   ]
  },
  {
   "cell_type": "code",
   "execution_count": null,
   "id": "878279ba",
   "metadata": {},
   "outputs": [],
   "source": [
    "# Load the image\n",
    "image = Image.open(\"sample_img.jpg\").convert('L')"
   ]
  },
  {
   "cell_type": "markdown",
   "id": "0064c232",
   "metadata": {},
   "source": [
    "\n",
    "<p dir=rtl style=\"direction: rtl;text-align: justify;line-height:200%;font-family:vazir;font-size:medium\">\n",
    "<font face=\"vazir\" size=3>\n",
    "ماتریسی در تصویر ضرب کنید که آن را نسبت به محور افقی قرینه کند. تصویر نهایی را نمایش دهید.\n",
    "</font>\n",
    "</p>\n"
   ]
  },
  {
   "cell_type": "code",
   "execution_count": null,
   "id": "1ae991aa",
   "metadata": {},
   "outputs": [],
   "source": [
    " def flip(matrix):\n",
    "        \n",
    "        # TO-DO\n",
    "                \n",
    "        return "
   ]
  },
  {
   "cell_type": "code",
   "execution_count": null,
   "id": "339306b5",
   "metadata": {},
   "outputs": [],
   "source": [
    "plt.imshow(flip(image))"
   ]
  },
  {
   "cell_type": "markdown",
   "id": "4634a786",
   "metadata": {},
   "source": [
    "\n",
    "<p dir=rtl style=\"direction: rtl;text-align: justify;line-height:200%;font-family:vazir;font-size:medium\">\n",
    "<font face=\"vazir\" size=3>\n",
    "ماتریسی در تصویر ضرب کنید که آن را 90 درجه به طور پادساعتگرد بچرخاند. تصویر نهایی را نمایش دهید.\n",
    "</font>\n",
    "</p>\n"
   ]
  },
  {
   "cell_type": "code",
   "execution_count": null,
   "id": "df85a95d",
   "metadata": {},
   "outputs": [],
   "source": [
    "def rotate(src_img,angle_of_rotation,pivot_point,shape_img):\n",
    "\n",
    "    # TO-DO\n",
    "\n",
    "    return new_img"
   ]
  },
  {
   "cell_type": "code",
   "execution_count": null,
   "id": "0f99eeb0",
   "metadata": {},
   "outputs": [],
   "source": [
    "rotated_img = # TO-DO\n",
    "plt.imshow(rotated_img)"
   ]
  }
 ],
 "metadata": {
  "kernelspec": {
   "display_name": "Python 3 (ipykernel)",
   "language": "python",
   "name": "python3"
  },
  "language_info": {
   "codemirror_mode": {
    "name": "ipython",
    "version": 3
   },
   "file_extension": ".py",
   "mimetype": "text/x-python",
   "name": "python",
   "nbconvert_exporter": "python",
   "pygments_lexer": "ipython3",
   "version": "3.9.12"
  }
 },
 "nbformat": 4,
 "nbformat_minor": 5
}
