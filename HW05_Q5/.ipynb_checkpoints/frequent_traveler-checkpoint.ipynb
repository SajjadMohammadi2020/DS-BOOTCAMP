{
 "cells": [
  {
   "cell_type": "markdown",
   "metadata": {},
   "source": [
    "<h1 align=center style=\"line-height:200%;font-family:vazir;color:#0099cc\">\n",
    "<font face=\"vazir\" color=\"#0099cc\">\n",
    "کثیر السفر\n",
    "</font>\n",
    "</h1>\n",
    "\n",
    "<p dir=rtl style=\"direction: rtl;text-align: justify;line-height:200%;font-family:vazir;font-size:medium\">\n",
    "<font face=\"vazir\" size=3>\n",
    "\n",
    "</font>\n",
    "</p>"
   ]
  },
  {
   "cell_type": "code",
   "execution_count": 1,
   "metadata": {},
   "outputs": [],
   "source": [
    "import numpy as np\n",
    "import numpy.linalg as la"
   ]
  },
  {
   "cell_type": "markdown",
   "metadata": {},
   "source": [
    "<h2 align=right style=\"line-height:200%;font-family:vazir;color:#0099cc\">\n",
    "<font face=\"vazir\" color=\"#0099cc\">\n",
    "بخش اول\n",
    "</font>\n",
    "</h2>\n",
    "\n",
    "<p dir=rtl style=\"direction: rtl;text-align: justify;line-height:200%;font-family:vazir;font-size:medium\">\n",
    "<font face=\"vazir\" size=3>\n",
    "به ازای ۳ مقدار احتمال اولیه داده شده در هر سل، احتمال حضور الیزابت در هر شهر در روز ۷ ام را محاسبه کنید و به ترتیب در متغیر‌های b ،a و c (به صورت آرایه نامپای) ذخیره نمایید.\n",
    "</font>\n",
    "</p>"
   ]
  },
  {
   "cell_type": "code",
   "execution_count": 2,
   "metadata": {},
   "outputs": [],
   "source": [
    "T1 = np.array([[0  , 1/4, 0 , 0 , 0  , 1/5],\n",
    "               [1/3,  0 , 0 ,1/2,1/2 ,  0 ],\n",
    "               [0  , 1/4, 0 , 0 , 0  , 1/5],\n",
    "               [0  , 1/4, 1 ,1/2,1/2 , 1/5],\n",
    "               [1/3, 1/4, 0 , 0 , 0  , 1/5],\n",
    "               [1/3,  0 , 0 , 0 , 0  , 1/5]])"
   ]
  },
  {
   "cell_type": "code",
   "execution_count": 20,
   "metadata": {},
   "outputs": [],
   "source": [
    "p_1 = np.array([0,0,0,0,0,100])"
   ]
  },
  {
   "cell_type": "code",
   "execution_count": 21,
   "metadata": {},
   "outputs": [
    {
     "name": "stdout",
     "output_type": "stream",
     "text": [
      "[[ 7.82728   ]\n",
      " [28.75553333]\n",
      " [ 7.82728   ]\n",
      " [41.84774667]\n",
      " [10.45974667]\n",
      " [ 3.28241333]]\n"
     ]
    }
   ],
   "source": [
    "a = T1.copy()\n",
    "p_1 = p_1.reshape(-1,1)\n",
    "for i in range(7) : \n",
    "    p_1 = np.matmul(T1,p_1)\n",
    "a = p_1 \n",
    "print(a)"
   ]
  },
  {
   "cell_type": "code",
   "execution_count": 26,
   "metadata": {},
   "outputs": [],
   "source": [
    "p_2 = np.array([0,0,0,50,0,50])"
   ]
  },
  {
   "cell_type": "code",
   "execution_count": 27,
   "metadata": {},
   "outputs": [
    {
     "name": "stdout",
     "output_type": "stream",
     "text": [
      "[ 7.84614    28.75068333  7.84614    41.82720667 10.46133167  3.26849833]\n"
     ]
    }
   ],
   "source": [
    "for i in range(7) : \n",
    "    p_2 = np.matmul(T1 , p_2) \n",
    "b = p_2\n",
    "print(b)"
   ]
  },
  {
   "cell_type": "code",
   "execution_count": 28,
   "metadata": {},
   "outputs": [],
   "source": [
    "p_3 = np.array([50,10,10,10,10,10])"
   ]
  },
  {
   "cell_type": "code",
   "execution_count": 29,
   "metadata": {},
   "outputs": [
    {
     "name": "stdout",
     "output_type": "stream",
     "text": [
      "[ 7.853978 28.751595  7.853978 41.817483 10.459933  3.263033]\n"
     ]
    }
   ],
   "source": [
    "for i in range(7) : \n",
    "    p_3 = np.matmul(T1,p_3)\n",
    "c = p_3\n",
    "print(c)"
   ]
  },
  {
   "cell_type": "markdown",
   "metadata": {},
   "source": [
    "\n",
    "<p dir=rtl style=\"direction: rtl;text-align: justify;line-height:200%;font-family:vazir;font-size:medium\">\n",
    "<font face=\"vazir\" size=3>\n",
    "مقادیر ويژه ماتریس <code>T1</code> را محاسبه کرده و آن‌ها را به ترتیب از مقدار ویژه با اندازه بزرگتر تا مقدار ویژه با کوچکترین اندازه درون آرایه <code>eig1</code> قرار دهید.\n",
    "</font>\n",
    "</p>"
   ]
  },
  {
   "cell_type": "code",
   "execution_count": 36,
   "metadata": {},
   "outputs": [
    {
     "name": "stdout",
     "output_type": "stream",
     "text": [
      "[(0.9999999999999987+0j), (-0.25969633138501236+0.21565888521805757j), (-0.25969633138501236-0.21565888521805757j), (0.21939266277002517+0j), (-2.1032603605176074e-09+0j), (2.1032603142003e-09+0j)]\n"
     ]
    }
   ],
   "source": [
    "eig1 , vec1 = list(np.linalg.eig(T1))\n",
    "eig1 = sorted(eig1 , key = lambda x : np.abs(x) , reverse=True)\n",
    "print(eig1)"
   ]
  },
  {
   "cell_type": "markdown",
   "metadata": {},
   "source": [
    "\n",
    "<p dir=rtl style=\"direction: rtl;text-align: justify;line-height:200%;font-family:vazir;font-size:medium\">\n",
    "<font face=\"vazir\" size=3>\n",
    "بوکر نیز همانند الیزابت در جزیره \n",
    "2K\n",
    "هر روز یک سفر انجام می‌دهد. اما یا این تفاوت که برخلاف الیزابت از مسیر‌های زیرزمینی جزیره استفاده می‌کند. در ادامه ماتریس سفر مسیر‌های زیرزمینی با توجه با نام <code>T2</code> \n",
    "آورده شده است. \n",
    "</font>\n",
    "</p>"
   ]
  },
  {
   "cell_type": "code",
   "execution_count": 37,
   "metadata": {},
   "outputs": [],
   "source": [
    "T2 = np.array([[0   ,  1/4  ,  1/3 ,  1/3 ,  0  ,   0],\n",
    "              [1/3  ,  1/4  ,   0  ,  1/3 ,  0  ,   0],\n",
    "              [1/3  ,  1/4  ,  1/3 ,   0  ,  0  ,   0],\n",
    "              [1/3  ,  1/4  ,  1/3 ,  1/3 ,  0  ,   0],\n",
    "              [0    ,   0   ,   0  ,   0  ,  1  ,   0],\n",
    "              [0    ,   0   ,   0  ,   0  ,  0  ,   1 ]])"
   ]
  },
  {
   "cell_type": "markdown",
   "metadata": {},
   "source": [
    "\n",
    "<p dir=rtl style=\"direction: rtl;text-align: justify;line-height:200%;font-family:vazir;font-size:medium\">\n",
    "<font face=\"vazir\" size=3>\n",
    "به ازای ۲ مقدار احتمال اولیه داده شده در هر سل، احتمال حضور بوکر در هر شهر در روز ۷ ام را محاسبه کنید و به ترتیب در متغیر‌های d و f  ذخیره نمایید.\n",
    "</font>\n",
    "</p>"
   ]
  },
  {
   "cell_type": "code",
   "execution_count": 39,
   "metadata": {},
   "outputs": [],
   "source": [
    "p_4 = np.array([10,20,0,0,30,40])"
   ]
  },
  {
   "cell_type": "code",
   "execution_count": 41,
   "metadata": {},
   "outputs": [
    {
     "name": "stdout",
     "output_type": "stream",
     "text": [
      "[ 7.04238033  7.30497607  6.26122857  9.39141502 30.         40.        ]\n"
     ]
    }
   ],
   "source": [
    "for i in range(7) : \n",
    "    p_4 = np.matmul(T2, p_4)\n",
    "d = p_4\n",
    "print(d)"
   ]
  },
  {
   "cell_type": "code",
   "execution_count": 42,
   "metadata": {},
   "outputs": [],
   "source": [
    "p_5 = np.array([50,10,10,10,10,10])"
   ]
  },
  {
   "cell_type": "code",
   "execution_count": 48,
   "metadata": {},
   "outputs": [
    {
     "name": "stdout",
     "output_type": "stream",
     "text": [
      "[18.78260968 19.47826035 16.69565185 25.04347811 10.         10.        ]\n"
     ]
    }
   ],
   "source": [
    "for i in range(7) : \n",
    "    p_5 = np.matmul(T2,p_5)\n",
    "    \n",
    "e = p_5\n",
    "print(e)"
   ]
  },
  {
   "cell_type": "markdown",
   "metadata": {},
   "source": [
    "\n",
    "<p dir=rtl style=\"direction: rtl;text-align: justify;line-height:200%;font-family:vazir;font-size:medium\">\n",
    "<font face=\"vazir\" size=3>\n",
    "مقادیر ويژه ماتریس <code>T2</code> را محاسبه کرده و آن‌ها را به ترتیب از مقدار ویژه با اندازه بزرگتر تا مقدار ویژه با کوچکترین اندازه درون آرایه <code>eig2</code> قرار دهید.\n",
    "</font>\n",
    "</p>"
   ]
  },
  {
   "cell_type": "code",
   "execution_count": 44,
   "metadata": {},
   "outputs": [
    {
     "name": "stdout",
     "output_type": "stream",
     "text": [
      "[(1+0j), (1+0j), (0.999999999999999+0j), (-0.28962561736527326+0j), (0.10314614201596992+0.14605007952714863j), (0.10314614201596992-0.14605007952714863j)]\n"
     ]
    }
   ],
   "source": [
    "eig2 ,vec2 = np.linalg.eig(T2)\n",
    "eig2 = sorted(eig2 , key = lambda x : np.abs(x) , reverse=True)\n",
    "print(eig2)"
   ]
  },
  {
   "cell_type": "markdown",
   "metadata": {},
   "source": [
    "<h2 align=right style=\"line-height:200%;font-family:vazir;color:#0099cc\">\n",
    "بخش دوم\n",
    "<font face=\"vazir\" color=\"#0099cc\">\n",
    "</font>\n",
    "</h2>\n",
    "\n",
    "<p dir=rtl style=\"direction: rtl;text-align: justify;line-height:200%;font-family:vazir;font-size:medium\">\n",
    "<font face=\"vazir\" size=3>اکنون با تحلیل نتایج بخش‌های قبل، تابعی بنویسید که یک ماتریس سفر را به عنوان ورودی دریافت کند و بردار ویژه متناظر مقدار ویژه برابر ۱ ماتریس را بدون استفاده از   ماژول <code>linalg</code> نامپای محاسبه کند. این تضمین وجود دارد که ورودی دقیقا یک مقدار ويژه برابر ۱ دارد و جمع درایه‌های بردار ویژه خروجی مخالف صفر است. بردار ویژه خروجی باید به نحوی باشد که جمع درایه‌های آن برابر ۱۰۰ گردد.</font>\n",
    "</p>"
   ]
  },
  {
   "cell_type": "code",
   "execution_count": 45,
   "metadata": {},
   "outputs": [],
   "source": [
    "def eigvector_1 (T):\n",
    "    import numpy as np\n",
    "    I = np.identity(len(T))\n",
    "    T = T - I\n",
    "    \n",
    "    for i in range(len(T-1)) : \n",
    "        for j in range(i+1,len(T)) : \n",
    "            if T[j][i] != 0 : \n",
    "                k = T[j][i] / T[i][i]\n",
    "                T[j] -= (k*T[i])\n",
    "    res = [ 0 for i in range(len(T))]\n",
    "    res[-1] = 1\n",
    "    for i in range(len(T)-2,-1,-1) : \n",
    "        s = 0 \n",
    "        ff = T[i] / (-1 * T[i][i])\n",
    "        for j in range(len(T)-1,i,-1) : \n",
    "            s += (ff[j] * res[j])\n",
    "        res[i] = s\n",
    "    jam = sum(res)\n",
    "    k = 100 / jam\n",
    "    for i in range(len(res)) : \n",
    "        res[i] *= k\n",
    "    V = res \n",
    "    return V    "
   ]
  },
  {
   "cell_type": "markdown",
   "metadata": {},
   "source": [
    "<p dir=rtl style=\"direction: rtl;text-align: justify;line-height:200%;font-family:vazir;font-size:medium\">\n",
    "<font face=\"vazir\" size=3>\n",
    "با استفاده از دستور جادویی <code>save</code> کد تابع خود را در قالب فایل <code dir=ltr>.py</code> ذخیره کنید تا بتوانیم در سلول جواب‌ساز، آن را در فایل <code>result.zip</code> قرار دهیم.\n",
    "</font>\n",
    "</p>\n"
   ]
  },
  {
   "cell_type": "code",
   "execution_count": 46,
   "metadata": {},
   "outputs": [
    {
     "name": "stdout",
     "output_type": "stream",
     "text": [
      "The following commands were written to file `eigvector_1.py`:\n",
      "def eigvector_1 (T):\n",
      "    import numpy as np\n",
      "    I = np.identity(len(T))\n",
      "    T = T - I\n",
      "    \n",
      "    for i in range(len(T-1)) : \n",
      "        for j in range(i+1,len(T)) : \n",
      "            if T[j][i] != 0 : \n",
      "                k = T[j][i] / T[i][i]\n",
      "                T[j] -= (k*T[i])\n",
      "    res = [ 0 for i in range(len(T))]\n",
      "    res[-1] = 1\n",
      "    for i in range(len(T)-2,-1,-1) : \n",
      "        s = 0 \n",
      "        ff = T[i] / (-1 * T[i][i])\n",
      "        for j in range(len(T)-1,i,-1) : \n",
      "            s += (ff[j] * res[j])\n",
      "        res[i] = s\n",
      "    jam = sum(res)\n",
      "    k = 100 / jam\n",
      "    for i in range(len(res)) : \n",
      "        res[i] *= k\n",
      "    V = res \n",
      "    return V    \n",
      "\n"
     ]
    }
   ],
   "source": [
    "from inspect import getsource\n",
    "%save eigvector_1 getsource(eigvector_1)"
   ]
  },
  {
   "cell_type": "markdown",
   "metadata": {},
   "source": [
    "<h2 align=right style=\"line-height:200%;font-family:vazir;color:#0099cc\">\n",
    "<font face=\"vazir\" color=\"#0099cc\">\n",
    "<b>سلول جواب‌ساز</b>\n",
    "</font>\n",
    "</h2>\n",
    "\n",
    "\n",
    "<p dir=rtl style=\"direction: rtl; text-align: justify; line-height:200%; font-family:vazir; font-size:medium\">\n",
    "<font face=\"vazir\" size=3>\n",
    "    برای ساخته‌شدن فایل <code>result.zip</code> سلول زیر را اجرا کنید. توجه داشته باشید که پیش از اجرای سلول زیر تغییرات اعمال شده در نت‌بوک را ذخیره کرده باشید (<code>ctrl+s</code>) تا در صورت نیاز به پشتیبانی امکان بررسی کد شما وجود داشته باشد.\n",
    "</font>\n",
    "</p>"
   ]
  },
  {
   "cell_type": "code",
   "execution_count": 49,
   "metadata": {},
   "outputs": [
    {
     "name": "stdout",
     "output_type": "stream",
     "text": [
      "File Paths:\n",
      "['a', 'b', 'c', 'd', 'e', 'eig1', 'eig2', 'eigvector_1.py', 'frequent_traveler.ipynb']\n"
     ]
    }
   ],
   "source": [
    "import zlib\n",
    "import zipfile\n",
    "import joblib\n",
    "\n",
    "joblib.dump(a,\"a\")\n",
    "joblib.dump(b,\"b\")\n",
    "joblib.dump(c,\"c\")\n",
    "joblib.dump(d,\"d\")\n",
    "joblib.dump(e,\"e\")\n",
    "\n",
    "joblib.dump(eig1,\"eig1\")\n",
    "joblib.dump(eig2,\"eig2\")\n",
    "\n",
    "def compress(file_names):\n",
    "    print(\"File Paths:\")\n",
    "    print(file_names)\n",
    "    compression = zipfile.ZIP_DEFLATED\n",
    "    with zipfile.ZipFile(\"result.zip\", mode=\"w\") as zf:\n",
    "        for file_name in file_names:\n",
    "            zf.write('./' + file_name, file_name, compress_type=compression)\n",
    "\n",
    "file_names = ['a','b','c','d','e','eig1','eig2','eigvector_1.py' , 'frequent_traveler.ipynb']\n",
    "\n",
    "compress(file_names)"
   ]
  }
 ],
 "metadata": {
  "kernelspec": {
   "display_name": "Python 3 (ipykernel)",
   "language": "python",
   "name": "python3"
  },
  "language_info": {
   "codemirror_mode": {
    "name": "ipython",
    "version": 3
   },
   "file_extension": ".py",
   "mimetype": "text/x-python",
   "name": "python",
   "nbconvert_exporter": "python",
   "pygments_lexer": "ipython3",
   "version": "3.10.7"
  },
  "vscode": {
   "interpreter": {
    "hash": "44e7e1b8fa2096bd5707ed7fd18b1724a2db25f4c565a7673f8b6e7bfc49d25d"
   }
  }
 },
 "nbformat": 4,
 "nbformat_minor": 2
}
